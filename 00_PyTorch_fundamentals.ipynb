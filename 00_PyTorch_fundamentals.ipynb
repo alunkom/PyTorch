{
  "nbformat": 4,
  "nbformat_minor": 0,
  "metadata": {
    "colab": {
      "provenance": [],
      "authorship_tag": "ABX9TyMh8S6szfFPDYF/yXOfamjH",
      "include_colab_link": true
    },
    "kernelspec": {
      "name": "python3",
      "display_name": "Python 3"
    },
    "language_info": {
      "name": "python"
    },
    "gpuClass": "standard",
    "accelerator": "GPU"
  },
  "cells": [
    {
      "cell_type": "markdown",
      "metadata": {
        "id": "view-in-github",
        "colab_type": "text"
      },
      "source": [
        "<a href=\"https://colab.research.google.com/github/alunkom/PyTorch/blob/main/00_PyTorch_fundamentals.ipynb\" target=\"_parent\"><img src=\"https://colab.research.google.com/assets/colab-badge.svg\" alt=\"Open In Colab\"/></a>"
      ]
    },
    {
      "cell_type": "markdown",
      "source": [
        "## << 00 . PyTorch Fundamentals >>\n"
      ],
      "metadata": {
        "id": "q2uFdbJfwNOL"
      }
    },
    {
      "cell_type": "markdown",
      "source": [
        "# Import Libraries "
      ],
      "metadata": {
        "id": "LXsP1BF2woog"
      }
    },
    {
      "cell_type": "code",
      "execution_count": 3,
      "metadata": {
        "colab": {
          "base_uri": "https://localhost:8080/"
        },
        "id": "BH9a5nVnuh90",
        "outputId": "c4b10516-0178-4211-dc69-6fafa48b7bb6"
      },
      "outputs": [
        {
          "output_type": "stream",
          "name": "stdout",
          "text": [
            "1.13.1+cu116\n"
          ]
        }
      ],
      "source": [
        "import torch \n",
        "import pandas as pd\n",
        "import numpy as np\n",
        "import matplotlib.pyplot as plt\n",
        "print (torch.__version__)"
      ]
    },
    {
      "cell_type": "markdown",
      "source": [
        "## Introduction Tensors\n",
        "\n",
        "Resorce : https://www.learnpytorch.io/00_pytorch_fundamentals/"
      ],
      "metadata": {
        "id": "WvCuGMAzxw85"
      }
    },
    {
      "cell_type": "markdown",
      "source": [
        "## creating tensors"
      ],
      "metadata": {
        "id": "SEHGnmzvx5of"
      }
    },
    {
      "cell_type": "markdown",
      "source": [
        " 'Image to declare what is exaly are Scalar AND Vector AND MATRIX'\n",
        "Link : https://hadrienj.github.io/assets/images/2.1/scalar-vector-matrix-tensor.png"
      ],
      "metadata": {
        "id": "gNLLuIPk1Qqr"
      }
    },
    {
      "cell_type": "code",
      "source": [
        " # scalar \n",
        " scalar = torch.tensor(7)\n",
        " scalar"
      ],
      "metadata": {
        "colab": {
          "base_uri": "https://localhost:8080/"
        },
        "id": "QNBNtt2rx4aE",
        "outputId": "7bdbe0e3-ff93-4d94-d9bb-a3efe9c16b3b"
      },
      "execution_count": 7,
      "outputs": [
        {
          "output_type": "execute_result",
          "data": {
            "text/plain": [
              "tensor(7)"
            ]
          },
          "metadata": {},
          "execution_count": 7
        }
      ]
    },
    {
      "cell_type": "code",
      "source": [
        "scalar.ndim"
      ],
      "metadata": {
        "colab": {
          "base_uri": "https://localhost:8080/"
        },
        "id": "v5zRPCzwybSQ",
        "outputId": "fac4a8d6-9c4a-4534-be38-a621c82acbbe"
      },
      "execution_count": 8,
      "outputs": [
        {
          "output_type": "execute_result",
          "data": {
            "text/plain": [
              "0"
            ]
          },
          "metadata": {},
          "execution_count": 8
        }
      ]
    },
    {
      "cell_type": "code",
      "source": [
        "# Get tensor back as Python int\n",
        "scalar.item()"
      ],
      "metadata": {
        "colab": {
          "base_uri": "https://localhost:8080/"
        },
        "id": "iowjOQz5ylp3",
        "outputId": "7daf3978-0e5c-45bc-d293-05a259148a0b"
      },
      "execution_count": 10,
      "outputs": [
        {
          "output_type": "execute_result",
          "data": {
            "text/plain": [
              "7"
            ]
          },
          "metadata": {},
          "execution_count": 10
        }
      ]
    },
    {
      "cell_type": "code",
      "source": [
        "# Vector \n",
        "vector = torch.tensor([7,7])\n",
        "vector"
      ],
      "metadata": {
        "colab": {
          "base_uri": "https://localhost:8080/"
        },
        "id": "hy2UsxF-yyIz",
        "outputId": "d69344ed-5e64-41b5-8075-a6180100c49a"
      },
      "execution_count": 11,
      "outputs": [
        {
          "output_type": "execute_result",
          "data": {
            "text/plain": [
              "tensor([7, 7])"
            ]
          },
          "metadata": {},
          "execution_count": 11
        }
      ]
    },
    {
      "cell_type": "code",
      "source": [
        "vector.dtype"
      ],
      "metadata": {
        "colab": {
          "base_uri": "https://localhost:8080/"
        },
        "id": "O2rHogXDDZhx",
        "outputId": "bacefc3f-3c38-4955-e861-c5309e3ed3d3"
      },
      "execution_count": 65,
      "outputs": [
        {
          "output_type": "execute_result",
          "data": {
            "text/plain": [
              "torch.int64"
            ]
          },
          "metadata": {},
          "execution_count": 65
        }
      ]
    },
    {
      "cell_type": "code",
      "source": [
        "vector.ndim"
      ],
      "metadata": {
        "colab": {
          "base_uri": "https://localhost:8080/"
        },
        "id": "w199fzspDp-q",
        "outputId": "54474b65-4f93-4cf2-81e8-eb787ea440fa"
      },
      "execution_count": 66,
      "outputs": [
        {
          "output_type": "execute_result",
          "data": {
            "text/plain": [
              "1"
            ]
          },
          "metadata": {},
          "execution_count": 66
        }
      ]
    },
    {
      "cell_type": "code",
      "source": [
        "vector.shape"
      ],
      "metadata": {
        "colab": {
          "base_uri": "https://localhost:8080/"
        },
        "id": "NilMz6Lpy_pb",
        "outputId": "7a9e0f12-09df-4cb0-c8f1-7f85d8b2de54"
      },
      "execution_count": 17,
      "outputs": [
        {
          "output_type": "execute_result",
          "data": {
            "text/plain": [
              "torch.Size([2])"
            ]
          },
          "metadata": {},
          "execution_count": 17
        }
      ]
    },
    {
      "cell_type": "code",
      "source": [
        "# Matrix\n",
        "MATRIX = torch.tensor([[7, 8,3]\n",
        "                      ,\n",
        "                      [9 ,10,5]])\n",
        "MATRIX"
      ],
      "metadata": {
        "colab": {
          "base_uri": "https://localhost:8080/"
        },
        "id": "pBS_8U3-zbWE",
        "outputId": "28ac90f2-9298-40ad-d250-c7d924abef69"
      },
      "execution_count": 21,
      "outputs": [
        {
          "output_type": "execute_result",
          "data": {
            "text/plain": [
              "tensor([[ 7,  8,  3],\n",
              "        [ 9, 10,  5]])"
            ]
          },
          "metadata": {},
          "execution_count": 21
        }
      ]
    },
    {
      "cell_type": "code",
      "source": [
        "# Shape of MATRIX\n",
        "MATRIX.shape\n",
        "# دو بعد که هر کدوم 3 تا المان دارن "
      ],
      "metadata": {
        "colab": {
          "base_uri": "https://localhost:8080/"
        },
        "id": "HyBNhUOO0BoX",
        "outputId": "b352f393-1a85-49fd-a7cd-3ebd375cdd14"
      },
      "execution_count": 44,
      "outputs": [
        {
          "output_type": "execute_result",
          "data": {
            "text/plain": [
              "torch.Size([2, 3])"
            ]
          },
          "metadata": {},
          "execution_count": 44
        }
      ]
    },
    {
      "cell_type": "code",
      "source": [
        "# تعداد بعد ها \n",
        "MATRIX.ndim"
      ],
      "metadata": {
        "colab": {
          "base_uri": "https://localhost:8080/"
        },
        "id": "Cc3eRCtS0F0v",
        "outputId": "0df6778c-42d9-45a6-808d-7691da95dc08"
      },
      "execution_count": 24,
      "outputs": [
        {
          "output_type": "execute_result",
          "data": {
            "text/plain": [
              "2"
            ]
          },
          "metadata": {},
          "execution_count": 24
        }
      ]
    },
    {
      "cell_type": "code",
      "source": [
        "# عنصر خاص از متغیر MATRIX \n",
        "MATRIX[0][1]\n",
        "# بعد اول ، عنصر دوم :)"
      ],
      "metadata": {
        "colab": {
          "base_uri": "https://localhost:8080/"
        },
        "id": "y6j9oCLN0tZ9",
        "outputId": "59086b2a-ff31-41b9-c649-7939c5853067"
      },
      "execution_count": 28,
      "outputs": [
        {
          "output_type": "execute_result",
          "data": {
            "text/plain": [
              "tensor(8)"
            ]
          },
          "metadata": {},
          "execution_count": 28
        }
      ]
    },
    {
      "cell_type": "code",
      "source": [
        "# TENSOR\n",
        "# تنژور \n",
        "TENSOR  = torch.tensor([\n",
        "    [\n",
        "        [1,2,3], [4,5,6], [7, 8, 9]\n",
        "                         ]\n",
        "                        ])\n",
        "TENSOR"
      ],
      "metadata": {
        "colab": {
          "base_uri": "https://localhost:8080/"
        },
        "id": "UE8PHsYh01_b",
        "outputId": "da713418-f661-4720-fb2d-763cb4be9f03"
      },
      "execution_count": 43,
      "outputs": [
        {
          "output_type": "execute_result",
          "data": {
            "text/plain": [
              "tensor([[[1, 2, 3],\n",
              "         [4, 5, 6],\n",
              "         [7, 8, 9]]])"
            ]
          },
          "metadata": {},
          "execution_count": 43
        }
      ]
    },
    {
      "cell_type": "code",
      "source": [
        "# ndim \n",
        "TENSOR.ndim"
      ],
      "metadata": {
        "colab": {
          "base_uri": "https://localhost:8080/"
        },
        "id": "Msb3e0Yp2rCM",
        "outputId": "9d2a3013-1672-4d70-a28d-7ceb09e47619"
      },
      "execution_count": 30,
      "outputs": [
        {
          "output_type": "execute_result",
          "data": {
            "text/plain": [
              "3"
            ]
          },
          "metadata": {},
          "execution_count": 30
        }
      ]
    },
    {
      "cell_type": "code",
      "source": [
        "TENSOR.shape"
      ],
      "metadata": {
        "colab": {
          "base_uri": "https://localhost:8080/"
        },
        "id": "eRRDK4_H2wL2",
        "outputId": "7be7b79c-7e48-48c4-bc5e-365b64d03153"
      },
      "execution_count": 31,
      "outputs": [
        {
          "output_type": "execute_result",
          "data": {
            "text/plain": [
              "torch.Size([1, 3, 3])"
            ]
          },
          "metadata": {},
          "execution_count": 31
        }
      ]
    },
    {
      "cell_type": "markdown",
      "source": [
        "تو بالا اولین عدد که میشه یک نشون میده ما یه فضا داریم (نشون دهنده ی اولین براکت ماست ) \n",
        "دومی ، عدد سه نشون میده 3 تا بعد داریم .\n",
        "و سومی نشون بده هر کدوم از اون بعدا 3 تا المان دارن "
      ],
      "metadata": {
        "id": "PYY-IhNr4KQd"
      }
    },
    {
      "cell_type": "code",
      "source": [
        "# تو نشون دادن براکت اولی از یک شروع میشه\n",
        "# ولی موقع فراخوانی باید از صفر شروع کنیم :)\n",
        "# میفهمم یکم عجیبه اما ترس نداره که یه گوگل کردن\n",
        "# جیرینگی کارمونو راه میندازه:)\n",
        "TENSOR[0]"
      ],
      "metadata": {
        "colab": {
          "base_uri": "https://localhost:8080/"
        },
        "id": "7g14ySnO2zxz",
        "outputId": "6071c939-02b9-4507-ac6e-9e70c7aacf3e"
      },
      "execution_count": 42,
      "outputs": [
        {
          "output_type": "execute_result",
          "data": {
            "text/plain": [
              "tensor([[1, 2, 3],\n",
              "        [4, 5, 6],\n",
              "        [7, 8, 9]])"
            ]
          },
          "metadata": {},
          "execution_count": 42
        }
      ]
    },
    {
      "cell_type": "code",
      "source": [
        "TENSOR[0][2]"
      ],
      "metadata": {
        "colab": {
          "base_uri": "https://localhost:8080/"
        },
        "id": "a-izA9UH3l2b",
        "outputId": "0341ce01-a348-4ad0-b474-ea9a16f6156e"
      },
      "execution_count": 36,
      "outputs": [
        {
          "output_type": "execute_result",
          "data": {
            "text/plain": [
              "tensor([7, 8, 9])"
            ]
          },
          "metadata": {},
          "execution_count": 36
        }
      ]
    },
    {
      "cell_type": "code",
      "source": [
        "TENSOR[0][0:2]"
      ],
      "metadata": {
        "colab": {
          "base_uri": "https://localhost:8080/"
        },
        "id": "i7_R1SH83tWV",
        "outputId": "774ac7b1-5fe6-4063-e38d-21d349fcc9f6"
      },
      "execution_count": 40,
      "outputs": [
        {
          "output_type": "execute_result",
          "data": {
            "text/plain": [
              "tensor([[1, 2, 3],\n",
              "        [4, 5, 6]])"
            ]
          },
          "metadata": {},
          "execution_count": 40
        }
      ]
    },
    {
      "cell_type": "markdown",
      "source": [
        "### Random TENSORS\n",
        "\n",
        "\n",
        "Why random tensors ?\n",
        "\n",
        "\n",
        "Random tensors are important because the way many neural networks learn is that they start with tensors full of random numbers and then adjust those ransom numbers to better represent the data.\n",
        "\n",
        "Start with random numbers -> look at data -> update random numbers -> look at data -> updarte random numbers "
      ],
      "metadata": {
        "id": "OlZ1G6Ia88mo"
      }
    },
    {
      "cell_type": "code",
      "source": [
        "# Creat a random tensor of size ( 3 ,4 )\n",
        "# این تابع Torch \n",
        "# مقدار هایی بین -1 تا 1 تولید میکنه\n",
        "\n",
        "random_tensor = torch.rand(3,4)\n",
        "random_tensor "
      ],
      "metadata": {
        "colab": {
          "base_uri": "https://localhost:8080/"
        },
        "id": "xbYe_i1G9LuL",
        "outputId": "f8ea044d-772c-48ae-cb15-32bdd0ea6c32"
      },
      "execution_count": 48,
      "outputs": [
        {
          "output_type": "execute_result",
          "data": {
            "text/plain": [
              "tensor([[0.2707, 0.2638, 0.5171, 0.1333],\n",
              "        [0.5510, 0.3518, 0.4719, 0.6379],\n",
              "        [0.7899, 0.0707, 0.0462, 0.8104]])"
            ]
          },
          "metadata": {},
          "execution_count": 48
        }
      ]
    },
    {
      "cell_type": "code",
      "source": [
        "random_tensor.ndim\n",
        "# ndim SHORT of Number Dimintion"
      ],
      "metadata": {
        "colab": {
          "base_uri": "https://localhost:8080/"
        },
        "id": "MBPp7uqm-VeH",
        "outputId": "7dbc6e73-7054-4042-b509-09970a1140b1"
      },
      "execution_count": 49,
      "outputs": [
        {
          "output_type": "execute_result",
          "data": {
            "text/plain": [
              "2"
            ]
          },
          "metadata": {},
          "execution_count": 49
        }
      ]
    },
    {
      "cell_type": "code",
      "source": [
        "random_tensor.shape"
      ],
      "metadata": {
        "colab": {
          "base_uri": "https://localhost:8080/"
        },
        "id": "sLLr-5oo-ZgF",
        "outputId": "c567012e-5776-41ed-e8b2-d5fe1801adf9"
      },
      "execution_count": 47,
      "outputs": [
        {
          "output_type": "execute_result",
          "data": {
            "text/plain": [
              "torch.Size([3, 4])"
            ]
          },
          "metadata": {},
          "execution_count": 47
        }
      ]
    },
    {
      "cell_type": "code",
      "source": [
        "random_tensor2 = torch.rand(3 , 2)\n",
        "random_tensor2"
      ],
      "metadata": {
        "colab": {
          "base_uri": "https://localhost:8080/"
        },
        "id": "8Lm2os2e-eJC",
        "outputId": "a959ceea-34b1-4417-820e-85430afa114f"
      },
      "execution_count": 58,
      "outputs": [
        {
          "output_type": "execute_result",
          "data": {
            "text/plain": [
              "tensor([[0.9403, 0.2953],\n",
              "        [0.7502, 0.7200],\n",
              "        [0.3764, 0.0237]])"
            ]
          },
          "metadata": {},
          "execution_count": 58
        }
      ]
    },
    {
      "cell_type": "code",
      "source": [
        "random_tensor3 = torch.rand(10 ,10 , 10)\n",
        "random_tensor3"
      ],
      "metadata": {
        "colab": {
          "base_uri": "https://localhost:8080/"
        },
        "id": "60X6ArvY_hGW",
        "outputId": "70534e79-da16-4d87-9978-d90e0332cf2a"
      },
      "execution_count": 59,
      "outputs": [
        {
          "output_type": "execute_result",
          "data": {
            "text/plain": [
              "tensor([[[0.0517, 0.5682, 0.2366, 0.9033, 0.0912, 0.9696, 0.3278, 0.9281,\n",
              "          0.1515, 0.1455],\n",
              "         [0.6149, 0.7858, 0.5255, 0.1136, 0.6335, 0.8139, 0.0484, 0.2180,\n",
              "          0.8774, 0.4873],\n",
              "         [0.5686, 0.3042, 0.1505, 0.8625, 0.0877, 0.0296, 0.5902, 0.9261,\n",
              "          0.4437, 0.9188],\n",
              "         [0.8258, 0.2118, 0.7822, 0.6434, 0.0265, 0.4162, 0.5944, 0.6497,\n",
              "          0.6384, 0.0269],\n",
              "         [0.3519, 0.0204, 0.2867, 0.5346, 0.2127, 0.3557, 0.4705, 0.7296,\n",
              "          0.2652, 0.6078],\n",
              "         [0.2105, 0.8663, 0.4922, 0.1979, 0.6248, 0.3468, 0.3130, 0.8909,\n",
              "          0.0448, 0.2301],\n",
              "         [0.3462, 0.9071, 0.8218, 0.1326, 0.2348, 0.8278, 0.4173, 0.1058,\n",
              "          0.9067, 0.2835],\n",
              "         [0.1930, 0.0876, 0.6951, 0.8051, 0.5779, 0.7579, 0.5511, 0.5286,\n",
              "          0.9769, 0.6004],\n",
              "         [0.7283, 0.9830, 0.8149, 0.2813, 0.2427, 0.6016, 0.3742, 0.3788,\n",
              "          0.1887, 0.9752],\n",
              "         [0.4523, 0.5858, 0.2411, 0.0317, 0.4942, 0.2574, 0.5136, 0.4538,\n",
              "          0.1137, 0.1676]],\n",
              "\n",
              "        [[0.9607, 0.5925, 0.1781, 0.9816, 0.4686, 0.8513, 0.6486, 0.3560,\n",
              "          0.8353, 0.4243],\n",
              "         [0.2556, 0.2867, 0.0070, 0.8441, 0.7401, 0.9095, 0.6902, 0.3923,\n",
              "          0.4001, 0.0968],\n",
              "         [0.0588, 0.2940, 0.0556, 0.9678, 0.4159, 0.9546, 0.6605, 0.7880,\n",
              "          0.6716, 0.7165],\n",
              "         [0.2975, 0.9579, 0.2219, 0.3771, 0.1512, 0.6563, 0.5095, 0.2225,\n",
              "          0.3577, 0.8990],\n",
              "         [0.0665, 0.6000, 0.3742, 0.7249, 0.5732, 0.0593, 0.6049, 0.6140,\n",
              "          0.2446, 0.6601],\n",
              "         [0.0379, 0.4190, 0.5055, 0.3208, 0.8923, 0.3757, 0.4349, 0.6176,\n",
              "          0.6082, 0.1286],\n",
              "         [0.8069, 0.3711, 0.4188, 0.2500, 0.3236, 0.4216, 0.7391, 0.3158,\n",
              "          0.9410, 0.0750],\n",
              "         [0.3532, 0.9719, 0.1780, 0.3816, 0.8892, 0.6057, 0.8103, 0.7272,\n",
              "          0.7951, 0.5464],\n",
              "         [0.1197, 0.0239, 0.1865, 0.3584, 0.1096, 0.3927, 0.2306, 0.2987,\n",
              "          0.4915, 0.5855],\n",
              "         [0.1523, 0.2735, 0.6869, 0.9230, 0.8230, 0.4691, 0.3756, 0.4599,\n",
              "          0.8478, 0.5597]],\n",
              "\n",
              "        [[0.3068, 0.8709, 0.2745, 0.0611, 0.1362, 0.4438, 0.4317, 0.8721,\n",
              "          0.0891, 0.9464],\n",
              "         [0.8689, 0.5121, 0.1270, 0.8586, 0.6471, 0.6590, 0.8768, 0.7643,\n",
              "          0.2757, 0.0575],\n",
              "         [0.6198, 0.8113, 0.9694, 0.3710, 0.4053, 0.9604, 0.2920, 0.9062,\n",
              "          0.4790, 0.7945],\n",
              "         [0.3824, 0.0553, 0.5289, 0.5372, 0.0107, 0.2248, 0.5275, 0.2557,\n",
              "          0.5289, 0.3373],\n",
              "         [0.5497, 0.4224, 0.8566, 0.8435, 0.8575, 0.3574, 0.8611, 0.4162,\n",
              "          0.1645, 0.6623],\n",
              "         [0.3574, 0.8149, 0.0942, 0.8947, 0.4227, 0.4266, 0.9459, 0.5399,\n",
              "          0.9726, 0.6616],\n",
              "         [0.4103, 0.4052, 0.1606, 0.6312, 0.5200, 0.2583, 0.6010, 0.6881,\n",
              "          0.2629, 0.7461],\n",
              "         [0.4372, 0.9731, 0.6321, 0.3543, 0.9895, 0.3921, 0.4375, 0.0805,\n",
              "          0.7832, 0.2427],\n",
              "         [0.1085, 0.2144, 0.1173, 0.0040, 0.5613, 0.8168, 0.8945, 0.5046,\n",
              "          0.6669, 0.5922],\n",
              "         [0.5910, 0.0968, 0.1569, 0.5274, 0.6831, 0.2154, 0.0877, 0.2462,\n",
              "          0.3205, 0.7340]],\n",
              "\n",
              "        [[0.6429, 0.3111, 0.1616, 0.4526, 0.4256, 0.8913, 0.1399, 0.0137,\n",
              "          0.3174, 0.2797],\n",
              "         [0.0215, 0.5967, 0.2715, 0.2759, 0.0888, 0.2540, 0.7090, 0.0203,\n",
              "          0.7790, 0.8925],\n",
              "         [0.5492, 0.7491, 0.5753, 0.1700, 0.8600, 0.9091, 0.2193, 0.4113,\n",
              "          0.8657, 0.0975],\n",
              "         [0.4062, 0.1872, 0.1898, 0.2663, 0.7695, 0.2065, 0.3952, 0.6810,\n",
              "          0.5324, 0.9167],\n",
              "         [0.7058, 0.8767, 0.9845, 0.6498, 0.2965, 0.3884, 0.1140, 0.7120,\n",
              "          0.1825, 0.3849],\n",
              "         [0.3747, 0.2352, 0.4051, 0.8292, 0.5180, 0.1024, 0.2520, 0.8776,\n",
              "          0.2675, 0.4520],\n",
              "         [0.0904, 0.4172, 0.4192, 0.0948, 0.7023, 0.3566, 0.4137, 0.3793,\n",
              "          0.4056, 0.4570],\n",
              "         [0.1960, 0.0324, 0.4662, 0.5972, 0.7264, 0.4913, 0.7071, 0.6482,\n",
              "          0.9868, 0.5515],\n",
              "         [0.0812, 0.1840, 0.1810, 0.1448, 0.1067, 0.4816, 0.7660, 0.9046,\n",
              "          0.6264, 0.7548],\n",
              "         [0.4657, 0.2737, 0.3681, 0.2986, 0.0168, 0.8602, 0.0951, 0.8384,\n",
              "          0.3645, 0.5683]],\n",
              "\n",
              "        [[0.7548, 0.9148, 0.2892, 0.7678, 0.3327, 0.0780, 0.5843, 0.6170,\n",
              "          0.1982, 0.8652],\n",
              "         [0.6787, 0.1199, 0.1841, 0.8001, 0.0531, 0.4482, 0.8484, 0.3413,\n",
              "          0.1238, 0.9634],\n",
              "         [0.8744, 0.1366, 0.1279, 0.4837, 0.9374, 0.9642, 0.1108, 0.9992,\n",
              "          0.3537, 0.8149],\n",
              "         [0.0943, 0.5099, 0.5922, 0.8111, 0.8362, 0.7433, 0.0502, 0.2096,\n",
              "          0.5208, 0.1652],\n",
              "         [0.0865, 0.6493, 0.7942, 0.6795, 0.2185, 0.1946, 0.7849, 0.7968,\n",
              "          0.6414, 0.5925],\n",
              "         [0.6267, 0.5368, 0.7362, 0.8606, 0.4260, 0.6268, 0.3988, 0.6084,\n",
              "          0.1035, 0.1457],\n",
              "         [0.7867, 0.1426, 0.8784, 0.2130, 0.3080, 0.1096, 0.2097, 0.0757,\n",
              "          0.8577, 0.1233],\n",
              "         [0.7918, 0.7957, 0.3185, 0.2724, 0.7738, 0.2971, 0.2888, 0.4709,\n",
              "          0.0233, 0.8970],\n",
              "         [0.1260, 0.0484, 0.1504, 0.3670, 0.7184, 0.7087, 0.1131, 0.7655,\n",
              "          0.5226, 0.3742],\n",
              "         [0.8306, 0.3280, 0.3173, 0.8314, 0.2676, 0.3644, 0.4341, 0.5533,\n",
              "          0.0965, 0.6241]],\n",
              "\n",
              "        [[0.9824, 0.2792, 0.8033, 0.0525, 0.7021, 0.8544, 0.1682, 0.7279,\n",
              "          0.1067, 0.5219],\n",
              "         [0.6842, 0.0739, 0.2783, 0.0356, 0.4191, 0.0151, 0.5215, 0.8945,\n",
              "          0.5253, 0.0109],\n",
              "         [0.2930, 0.0570, 0.0151, 0.3643, 0.8083, 0.5944, 0.0166, 0.3796,\n",
              "          0.6424, 0.6440],\n",
              "         [0.2259, 0.9938, 0.8130, 0.1190, 0.2814, 0.6523, 0.6025, 0.1019,\n",
              "          0.0199, 0.7974],\n",
              "         [0.7105, 0.1240, 0.8952, 0.4260, 0.2289, 0.9740, 0.0337, 0.9822,\n",
              "          0.1875, 0.6403],\n",
              "         [0.1134, 0.0339, 0.9769, 0.4570, 0.9301, 0.6595, 0.8971, 0.8318,\n",
              "          0.0305, 0.6851],\n",
              "         [0.6775, 0.9601, 0.7476, 0.3806, 0.7678, 0.7615, 0.7978, 0.7865,\n",
              "          0.5255, 0.8736],\n",
              "         [0.0676, 0.5577, 0.1165, 0.4064, 0.5076, 0.9745, 0.6970, 0.6483,\n",
              "          0.3355, 0.0911],\n",
              "         [0.5317, 0.7146, 0.8349, 0.9034, 0.7395, 0.4248, 0.9296, 0.7866,\n",
              "          0.6506, 0.2627],\n",
              "         [0.8956, 0.1822, 0.7934, 0.2675, 0.3067, 0.2299, 0.2507, 0.4848,\n",
              "          0.8665, 0.1788]],\n",
              "\n",
              "        [[0.3378, 0.4959, 0.3775, 0.4436, 0.7612, 0.9224, 0.3008, 0.7237,\n",
              "          0.6554, 0.6401],\n",
              "         [0.1402, 0.5418, 0.6969, 0.8062, 0.6990, 0.5170, 0.1380, 0.2001,\n",
              "          0.9087, 0.2131],\n",
              "         [0.5519, 0.1274, 0.8948, 0.6495, 0.9539, 0.4541, 0.2712, 0.4095,\n",
              "          0.0777, 0.9259],\n",
              "         [0.6050, 0.9270, 0.2781, 0.7623, 0.3072, 0.3502, 0.9808, 0.3152,\n",
              "          0.7071, 0.3138],\n",
              "         [0.3929, 0.2143, 0.3284, 0.9213, 0.1020, 0.5440, 0.4053, 0.2295,\n",
              "          0.0870, 0.8277],\n",
              "         [0.4728, 0.1313, 0.4009, 0.9451, 0.3171, 0.3770, 0.4663, 0.7873,\n",
              "          0.8754, 0.1197],\n",
              "         [0.6599, 0.3168, 0.5581, 0.9712, 0.8682, 0.9957, 0.5957, 0.0182,\n",
              "          0.0125, 0.4268],\n",
              "         [0.8438, 0.8164, 0.2887, 0.2303, 0.2758, 0.0820, 0.7367, 0.8336,\n",
              "          0.8516, 0.6856],\n",
              "         [0.1765, 0.3865, 0.3259, 0.8508, 0.5446, 0.4357, 0.0771, 0.1191,\n",
              "          0.3711, 0.6558],\n",
              "         [0.3689, 0.4925, 0.2380, 0.6332, 0.7662, 0.9937, 0.3289, 0.4262,\n",
              "          0.9855, 0.3192]],\n",
              "\n",
              "        [[0.4817, 0.7775, 0.2933, 0.3601, 0.8586, 0.0651, 0.4749, 0.3755,\n",
              "          0.8401, 0.5734],\n",
              "         [0.7457, 0.9573, 0.4871, 0.0108, 0.2632, 0.5479, 0.4803, 0.3814,\n",
              "          0.8199, 0.7141],\n",
              "         [0.2129, 0.5494, 0.2135, 0.5654, 0.7949, 0.7617, 0.9670, 0.6721,\n",
              "          0.7922, 0.1598],\n",
              "         [0.5324, 0.3045, 0.5690, 0.4760, 0.5883, 0.4707, 0.7422, 0.8226,\n",
              "          0.6708, 0.2000],\n",
              "         [0.1935, 0.7049, 0.1274, 0.8988, 0.4185, 0.6828, 0.6269, 0.0424,\n",
              "          0.4224, 0.7517],\n",
              "         [0.8926, 0.6855, 0.1053, 0.4434, 0.8077, 0.3619, 0.7179, 0.6944,\n",
              "          0.1087, 0.1829],\n",
              "         [0.4749, 0.3009, 0.7931, 0.3639, 0.7036, 0.8526, 0.3247, 0.2368,\n",
              "          0.8649, 0.4428],\n",
              "         [0.4822, 0.0779, 0.0347, 0.2153, 0.5259, 0.4659, 0.5377, 0.4185,\n",
              "          0.4132, 0.4541],\n",
              "         [0.5672, 0.5851, 0.2877, 0.9834, 0.1151, 0.2840, 0.5090, 0.1712,\n",
              "          0.3367, 0.7245],\n",
              "         [0.7861, 0.6570, 0.2729, 0.5051, 0.0409, 0.1137, 0.9559, 0.1734,\n",
              "          0.6484, 0.0870]],\n",
              "\n",
              "        [[0.0639, 0.5599, 0.1795, 0.5121, 0.6909, 0.0218, 0.7533, 0.6497,\n",
              "          0.1704, 0.7959],\n",
              "         [0.1670, 0.2927, 0.1412, 0.2668, 0.6447, 0.5017, 0.2240, 0.0293,\n",
              "          0.3563, 0.5395],\n",
              "         [0.9462, 0.9226, 0.2404, 0.2656, 0.1714, 0.6689, 0.2048, 0.3668,\n",
              "          0.1865, 0.2969],\n",
              "         [0.0471, 0.8848, 0.5547, 0.6856, 0.6155, 0.8872, 0.1440, 0.4287,\n",
              "          0.6627, 0.0341],\n",
              "         [0.9093, 0.8277, 0.0794, 0.2957, 0.6916, 0.6926, 0.0647, 0.4386,\n",
              "          0.1765, 0.7455],\n",
              "         [0.3123, 0.6488, 0.4471, 0.2768, 0.0207, 0.2426, 0.7938, 0.9353,\n",
              "          0.6909, 0.4141],\n",
              "         [0.1073, 0.3448, 0.1383, 0.2874, 0.4896, 0.3254, 0.9426, 0.5937,\n",
              "          0.4756, 0.3376],\n",
              "         [0.2949, 0.4002, 0.4316, 0.3814, 0.9067, 0.7055, 0.2790, 0.5451,\n",
              "          0.9731, 0.0419],\n",
              "         [0.9368, 0.2957, 0.1859, 0.5063, 0.1853, 0.7602, 0.8432, 0.2850,\n",
              "          0.9404, 0.2373],\n",
              "         [0.3418, 0.2202, 0.0213, 0.0035, 0.8568, 0.3504, 0.8968, 0.4975,\n",
              "          0.7557, 0.1805]],\n",
              "\n",
              "        [[0.2969, 0.8757, 0.9894, 0.9049, 0.7870, 0.6924, 0.9287, 0.7429,\n",
              "          0.9373, 0.8157],\n",
              "         [0.8420, 0.4237, 0.4767, 0.0098, 0.2790, 0.7836, 0.5617, 0.5628,\n",
              "          0.7129, 0.2508],\n",
              "         [0.8661, 0.3050, 0.6588, 0.3180, 0.3134, 0.4318, 0.6415, 0.2476,\n",
              "          0.1449, 0.0851],\n",
              "         [0.3898, 0.6044, 0.4351, 0.2438, 0.3651, 0.9720, 0.7398, 0.8013,\n",
              "          0.9149, 0.5293],\n",
              "         [0.9772, 0.1149, 0.9755, 0.7439, 0.9291, 0.9930, 0.1317, 0.9548,\n",
              "          0.7740, 0.4008],\n",
              "         [0.0972, 0.0974, 0.8115, 0.6911, 0.9782, 0.8697, 0.7738, 0.4587,\n",
              "          0.7868, 0.6166],\n",
              "         [0.5094, 0.0804, 0.3199, 0.3080, 0.7807, 0.6343, 0.0288, 0.9301,\n",
              "          0.5783, 0.1536],\n",
              "         [0.5486, 0.7875, 0.6762, 0.7809, 0.0298, 0.2162, 0.8829, 0.7949,\n",
              "          0.7458, 0.8187],\n",
              "         [0.7214, 0.2235, 0.6442, 0.8099, 0.1882, 0.3423, 0.1914, 0.9384,\n",
              "          0.1325, 0.1098],\n",
              "         [0.0576, 0.5364, 0.8244, 0.4542, 0.0544, 0.6862, 0.6350, 0.0952,\n",
              "          0.8665, 0.9978]]])"
            ]
          },
          "metadata": {},
          "execution_count": 59
        }
      ]
    },
    {
      "cell_type": "code",
      "source": [
        "# Creat a random tensor with similar shape to an image tensor\n",
        "random_image_size_tensor = torch.rand(size =(224 , 224 ,3 ))  # height  , width , color channel (Ex : Green , Red , Blue)\n",
        "random_image_size_tensor.shape , random_image_size_tensor.ndim"
      ],
      "metadata": {
        "colab": {
          "base_uri": "https://localhost:8080/"
        },
        "id": "2ZsUCMe4_lew",
        "outputId": "4da623b6-103d-4709-bb70-9c91b307f2df"
      },
      "execution_count": 54,
      "outputs": [
        {
          "output_type": "execute_result",
          "data": {
            "text/plain": [
              "(torch.Size([224, 224, 3]), 3)"
            ]
          },
          "metadata": {},
          "execution_count": 54
        }
      ]
    },
    {
      "cell_type": "code",
      "source": [
        "# Size = \n",
        "# داخل تابع رند بودن یا نبودنش تاثیری نداره خروجی جفتشون یکیه :)"
      ],
      "metadata": {
        "id": "J7Tddj_GAvoL"
      },
      "execution_count": 55,
      "outputs": []
    },
    {
      "cell_type": "markdown",
      "source": [
        "###  Zeros and Ones "
      ],
      "metadata": {
        "id": "eUEHw3HuCDQj"
      }
    },
    {
      "cell_type": "code",
      "source": [
        "# Creat a tensor of all zeros\n",
        "zeros  = torch.zeros(size=(3,2))\n",
        "zeros"
      ],
      "metadata": {
        "colab": {
          "base_uri": "https://localhost:8080/"
        },
        "id": "8TZlx_bCCOl7",
        "outputId": "165e49a9-047e-4471-a73e-9670dd32cf85"
      },
      "execution_count": 56,
      "outputs": [
        {
          "output_type": "execute_result",
          "data": {
            "text/plain": [
              "tensor([[0., 0.],\n",
              "        [0., 0.],\n",
              "        [0., 0.]])"
            ]
          },
          "metadata": {},
          "execution_count": 56
        }
      ]
    },
    {
      "cell_type": "code",
      "source": [
        "zeros * random_tensor"
      ],
      "metadata": {
        "colab": {
          "base_uri": "https://localhost:8080/",
          "height": 169
        },
        "id": "dlt6Aow9CbHd",
        "outputId": "dbef29fc-4c49-4fed-c01f-9e8d40088657"
      },
      "execution_count": 57,
      "outputs": [
        {
          "output_type": "error",
          "ename": "RuntimeError",
          "evalue": "ignored",
          "traceback": [
            "\u001b[0;31m---------------------------------------------------------------------------\u001b[0m",
            "\u001b[0;31mRuntimeError\u001b[0m                              Traceback (most recent call last)",
            "\u001b[0;32m<ipython-input-57-9208e3a7e0b0>\u001b[0m in \u001b[0;36m<module>\u001b[0;34m\u001b[0m\n\u001b[0;32m----> 1\u001b[0;31m \u001b[0mzeros\u001b[0m \u001b[0;34m*\u001b[0m \u001b[0mrandom_tensor\u001b[0m\u001b[0;34m\u001b[0m\u001b[0;34m\u001b[0m\u001b[0m\n\u001b[0m",
            "\u001b[0;31mRuntimeError\u001b[0m: The size of tensor a (2) must match the size of tensor b (4) at non-singleton dimension 1"
          ]
        }
      ]
    },
    {
      "cell_type": "code",
      "source": [
        "# ضرب دوتا Tensor\n",
        "zeros * random_tensor2"
      ],
      "metadata": {
        "colab": {
          "base_uri": "https://localhost:8080/"
        },
        "id": "uag7lg05CoOH",
        "outputId": "18a67bf6-db3a-4fc1-f929-256239a50779"
      },
      "execution_count": 61,
      "outputs": [
        {
          "output_type": "execute_result",
          "data": {
            "text/plain": [
              "tensor([[0., 0.],\n",
              "        [0., 0.],\n",
              "        [0., 0.]])"
            ]
          },
          "metadata": {},
          "execution_count": 61
        }
      ]
    },
    {
      "cell_type": "code",
      "source": [
        "# Creat a tensor of all ones\n",
        "ones = torch.ones(size=(3,2))\n",
        "ones"
      ],
      "metadata": {
        "colab": {
          "base_uri": "https://localhost:8080/"
        },
        "id": "cc0B9S7XC14q",
        "outputId": "2319b703-a40b-44ae-82de-be554f48595a"
      },
      "execution_count": 62,
      "outputs": [
        {
          "output_type": "execute_result",
          "data": {
            "text/plain": [
              "tensor([[1., 1.],\n",
              "        [1., 1.],\n",
              "        [1., 1.]])"
            ]
          },
          "metadata": {},
          "execution_count": 62
        }
      ]
    },
    {
      "cell_type": "code",
      "source": [
        "# Data type \n",
        "ones.dtype"
      ],
      "metadata": {
        "colab": {
          "base_uri": "https://localhost:8080/"
        },
        "id": "zjFBgKGmDHSc",
        "outputId": "0d57f299-af72-48a0-d481-5d45b6e5da37"
      },
      "execution_count": 64,
      "outputs": [
        {
          "output_type": "execute_result",
          "data": {
            "text/plain": [
              "torch.float32"
            ]
          },
          "metadata": {},
          "execution_count": 64
        }
      ]
    },
    {
      "cell_type": "markdown",
      "source": [
        "### Creating a range of tensors and tensors_like"
      ],
      "metadata": {
        "id": "9aSS49wKDut0"
      }
    },
    {
      "cell_type": "code",
      "source": [
        "# Use torch.arange() \n",
        "one_to_ten = torch.arange(start=1,end=11)  #-->  میتونیم از start , end , step استفاده کنیم\n",
        "one_to_ten"
      ],
      "metadata": {
        "colab": {
          "base_uri": "https://localhost:8080/"
        },
        "id": "Z9SQdPtpDMj8",
        "outputId": "f71717ae-5f77-4126-ec6c-3e2b01dd81da"
      },
      "execution_count": 72,
      "outputs": [
        {
          "output_type": "execute_result",
          "data": {
            "text/plain": [
              "tensor([ 1,  2,  3,  4,  5,  6,  7,  8,  9, 10])"
            ]
          },
          "metadata": {},
          "execution_count": 72
        }
      ]
    },
    {
      "cell_type": "code",
      "source": [
        "# Creating tenosrs like \n",
        "ten_zeros = torch.zeros_like(input=one_to_ten)\n",
        "ten_zeros"
      ],
      "metadata": {
        "colab": {
          "base_uri": "https://localhost:8080/"
        },
        "id": "38k80okMEBju",
        "outputId": "f2021174-6704-4019-b85f-f50da78d6242"
      },
      "execution_count": 74,
      "outputs": [
        {
          "output_type": "execute_result",
          "data": {
            "text/plain": [
              "tensor([0, 0, 0, 0, 0, 0, 0, 0, 0, 0])"
            ]
          },
          "metadata": {},
          "execution_count": 74
        }
      ]
    },
    {
      "cell_type": "markdown",
      "source": [
        "### Tensor datatype\n",
        "**Note=** Tensor datatype is one of the 3 big errors you'll run into with PyTorch & deep learning:\n",
        "\n",
        "1. Tensor not right datatype\n",
        "\n",
        "2. Tensor not rigth shape\n",
        "\n",
        "3. Tensor not on the right device "
      ],
      "metadata": {
        "id": "KCmY_hWdFU4n"
      }
    },
    {
      "cell_type": "code",
      "source": [
        "# Float 32 tensor\n",
        "float_32_tensor = torch.tensor([3.0 , 4.0 ,6.0] ,\n",
        "                               dtype=None ,\n",
        "                               device = None ,           # By default is to bee \"CPU\"  / GPU is \"cuda\"\n",
        "                               requires_grad= False)\n",
        "float_32_tensor"
      ],
      "metadata": {
        "colab": {
          "base_uri": "https://localhost:8080/"
        },
        "id": "PdP-UzSpF5T9",
        "outputId": "efac68b5-9bab-4f80-c014-306628c73d1a"
      },
      "execution_count": 82,
      "outputs": [
        {
          "output_type": "execute_result",
          "data": {
            "text/plain": [
              "tensor([3., 4., 6.])"
            ]
          },
          "metadata": {},
          "execution_count": 82
        }
      ]
    },
    {
      "cell_type": "code",
      "source": [
        "float_32_tensor.dtype"
      ],
      "metadata": {
        "colab": {
          "base_uri": "https://localhost:8080/"
        },
        "id": "mrRDM6EFGM1S",
        "outputId": "f24fcb9b-e4d4-43eb-dc62-cd65888d020d"
      },
      "execution_count": 77,
      "outputs": [
        {
          "output_type": "execute_result",
          "data": {
            "text/plain": [
              "torch.float32"
            ]
          },
          "metadata": {},
          "execution_count": 77
        }
      ]
    },
    {
      "cell_type": "code",
      "source": [
        "# Float 16 tensor\n",
        "float_16_tensor = float_32_tensor.type(torch.float16)  # or float half\n",
        "float_16_tensor"
      ],
      "metadata": {
        "colab": {
          "base_uri": "https://localhost:8080/"
        },
        "id": "MFwnWx5ZGTJ9",
        "outputId": "efad651d-befc-43bb-cc8a-2b81065a613c"
      },
      "execution_count": 83,
      "outputs": [
        {
          "output_type": "execute_result",
          "data": {
            "text/plain": [
              "tensor([3., 4., 6.], dtype=torch.float16)"
            ]
          },
          "metadata": {},
          "execution_count": 83
        }
      ]
    },
    {
      "cell_type": "code",
      "source": [
        "float_16_tensor.dtype"
      ],
      "metadata": {
        "colab": {
          "base_uri": "https://localhost:8080/"
        },
        "id": "GcclXi-JGjk9",
        "outputId": "d9a488de-bd6b-4a5f-d753-397a74e10b10"
      },
      "execution_count": 79,
      "outputs": [
        {
          "output_type": "execute_result",
          "data": {
            "text/plain": [
              "torch.float16"
            ]
          },
          "metadata": {},
          "execution_count": 79
        }
      ]
    },
    {
      "cell_type": "code",
      "source": [],
      "metadata": {
        "id": "ykHycBuDGnef"
      },
      "execution_count": null,
      "outputs": []
    }
  ]
}