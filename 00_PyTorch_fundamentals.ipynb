{
  "nbformat": 4,
  "nbformat_minor": 0,
  "metadata": {
    "colab": {
      "provenance": [],
      "authorship_tag": "ABX9TyMIb2TqmX1ckHKp+sVv3+d6",
      "include_colab_link": true
    },
    "kernelspec": {
      "name": "python3",
      "display_name": "Python 3"
    },
    "language_info": {
      "name": "python"
    },
    "gpuClass": "standard",
    "accelerator": "GPU"
  },
  "cells": [
    {
      "cell_type": "markdown",
      "metadata": {
        "id": "view-in-github",
        "colab_type": "text"
      },
      "source": [
        "<a href=\"https://colab.research.google.com/github/alunkom/PyTorch/blob/main/00_PyTorch_fundamentals.ipynb\" target=\"_parent\"><img src=\"https://colab.research.google.com/assets/colab-badge.svg\" alt=\"Open In Colab\"/></a>"
      ]
    },
    {
      "cell_type": "markdown",
      "source": [
        "## << 00 . PyTorch Fundamentals >>\n"
      ],
      "metadata": {
        "id": "q2uFdbJfwNOL"
      }
    },
    {
      "cell_type": "markdown",
      "source": [
        "# Import Libraries "
      ],
      "metadata": {
        "id": "LXsP1BF2woog"
      }
    },
    {
      "cell_type": "code",
      "execution_count": 3,
      "metadata": {
        "colab": {
          "base_uri": "https://localhost:8080/"
        },
        "id": "BH9a5nVnuh90",
        "outputId": "c4b10516-0178-4211-dc69-6fafa48b7bb6"
      },
      "outputs": [
        {
          "output_type": "stream",
          "name": "stdout",
          "text": [
            "1.13.1+cu116\n"
          ]
        }
      ],
      "source": [
        "import torch \n",
        "import pandas as pd\n",
        "import numpy as np\n",
        "import matplotlib.pyplot as plt\n",
        "print (torch.__version__)"
      ]
    },
    {
      "cell_type": "markdown",
      "source": [
        "## Introduction Tensors"
      ],
      "metadata": {
        "id": "WvCuGMAzxw85"
      }
    },
    {
      "cell_type": "markdown",
      "source": [
        "## creating tensors"
      ],
      "metadata": {
        "id": "SEHGnmzvx5of"
      }
    },
    {
      "cell_type": "markdown",
      "source": [
        " 'Image to declare what is exaly are Scalar AND Vector AND MATRIX'\n",
        "Link : https://hadrienj.github.io/assets/images/2.1/scalar-vector-matrix-tensor.png"
      ],
      "metadata": {
        "id": "gNLLuIPk1Qqr"
      }
    },
    {
      "cell_type": "code",
      "source": [
        " # scalar \n",
        " scalar = torch.tensor(7)\n",
        " scalar"
      ],
      "metadata": {
        "colab": {
          "base_uri": "https://localhost:8080/"
        },
        "id": "QNBNtt2rx4aE",
        "outputId": "7bdbe0e3-ff93-4d94-d9bb-a3efe9c16b3b"
      },
      "execution_count": 7,
      "outputs": [
        {
          "output_type": "execute_result",
          "data": {
            "text/plain": [
              "tensor(7)"
            ]
          },
          "metadata": {},
          "execution_count": 7
        }
      ]
    },
    {
      "cell_type": "code",
      "source": [
        "scalar.ndim"
      ],
      "metadata": {
        "colab": {
          "base_uri": "https://localhost:8080/"
        },
        "id": "v5zRPCzwybSQ",
        "outputId": "fac4a8d6-9c4a-4534-be38-a621c82acbbe"
      },
      "execution_count": 8,
      "outputs": [
        {
          "output_type": "execute_result",
          "data": {
            "text/plain": [
              "0"
            ]
          },
          "metadata": {},
          "execution_count": 8
        }
      ]
    },
    {
      "cell_type": "code",
      "source": [
        "# Get tensor back as Python int\n",
        "scalar.item()"
      ],
      "metadata": {
        "colab": {
          "base_uri": "https://localhost:8080/"
        },
        "id": "iowjOQz5ylp3",
        "outputId": "7daf3978-0e5c-45bc-d293-05a259148a0b"
      },
      "execution_count": 10,
      "outputs": [
        {
          "output_type": "execute_result",
          "data": {
            "text/plain": [
              "7"
            ]
          },
          "metadata": {},
          "execution_count": 10
        }
      ]
    },
    {
      "cell_type": "code",
      "source": [
        "# Vector \n",
        "vector = torch.tensor([7,7])\n",
        "vector"
      ],
      "metadata": {
        "colab": {
          "base_uri": "https://localhost:8080/"
        },
        "id": "hy2UsxF-yyIz",
        "outputId": "d69344ed-5e64-41b5-8075-a6180100c49a"
      },
      "execution_count": 11,
      "outputs": [
        {
          "output_type": "execute_result",
          "data": {
            "text/plain": [
              "tensor([7, 7])"
            ]
          },
          "metadata": {},
          "execution_count": 11
        }
      ]
    },
    {
      "cell_type": "code",
      "source": [
        "vector.ndim"
      ],
      "metadata": {
        "colab": {
          "base_uri": "https://localhost:8080/"
        },
        "id": "H7MfHNoDzVt0",
        "outputId": "88a34918-61a9-44b2-c326-d48c9ef7ea3c"
      },
      "execution_count": 12,
      "outputs": [
        {
          "output_type": "execute_result",
          "data": {
            "text/plain": [
              "1"
            ]
          },
          "metadata": {},
          "execution_count": 12
        }
      ]
    },
    {
      "cell_type": "code",
      "source": [
        "vector.shape"
      ],
      "metadata": {
        "colab": {
          "base_uri": "https://localhost:8080/"
        },
        "id": "NilMz6Lpy_pb",
        "outputId": "7a9e0f12-09df-4cb0-c8f1-7f85d8b2de54"
      },
      "execution_count": 17,
      "outputs": [
        {
          "output_type": "execute_result",
          "data": {
            "text/plain": [
              "torch.Size([2])"
            ]
          },
          "metadata": {},
          "execution_count": 17
        }
      ]
    },
    {
      "cell_type": "code",
      "source": [
        "# Matrix\n",
        "MATRIX = torch.tensor([[7, 8,3]\n",
        "                      ,\n",
        "                      [9 ,10,5]])\n",
        "MATRIX"
      ],
      "metadata": {
        "colab": {
          "base_uri": "https://localhost:8080/"
        },
        "id": "pBS_8U3-zbWE",
        "outputId": "28ac90f2-9298-40ad-d250-c7d924abef69"
      },
      "execution_count": 21,
      "outputs": [
        {
          "output_type": "execute_result",
          "data": {
            "text/plain": [
              "tensor([[ 7,  8,  3],\n",
              "        [ 9, 10,  5]])"
            ]
          },
          "metadata": {},
          "execution_count": 21
        }
      ]
    },
    {
      "cell_type": "code",
      "source": [
        "# Shape of MATRIX\n",
        "MATRIX.shape\n",
        "# دو بعد که هر کدوم 3 تا المان دارن "
      ],
      "metadata": {
        "colab": {
          "base_uri": "https://localhost:8080/"
        },
        "id": "HyBNhUOO0BoX",
        "outputId": "b352f393-1a85-49fd-a7cd-3ebd375cdd14"
      },
      "execution_count": 44,
      "outputs": [
        {
          "output_type": "execute_result",
          "data": {
            "text/plain": [
              "torch.Size([2, 3])"
            ]
          },
          "metadata": {},
          "execution_count": 44
        }
      ]
    },
    {
      "cell_type": "code",
      "source": [
        "# تعداد بعد ها \n",
        "MATRIX.ndim"
      ],
      "metadata": {
        "colab": {
          "base_uri": "https://localhost:8080/"
        },
        "id": "Cc3eRCtS0F0v",
        "outputId": "0df6778c-42d9-45a6-808d-7691da95dc08"
      },
      "execution_count": 24,
      "outputs": [
        {
          "output_type": "execute_result",
          "data": {
            "text/plain": [
              "2"
            ]
          },
          "metadata": {},
          "execution_count": 24
        }
      ]
    },
    {
      "cell_type": "code",
      "source": [
        "# عنصر خاص از متغیر MATRIX \n",
        "MATRIX[0][1]\n",
        "# بعد اول ، عنصر دوم :)"
      ],
      "metadata": {
        "colab": {
          "base_uri": "https://localhost:8080/"
        },
        "id": "y6j9oCLN0tZ9",
        "outputId": "59086b2a-ff31-41b9-c649-7939c5853067"
      },
      "execution_count": 28,
      "outputs": [
        {
          "output_type": "execute_result",
          "data": {
            "text/plain": [
              "tensor(8)"
            ]
          },
          "metadata": {},
          "execution_count": 28
        }
      ]
    },
    {
      "cell_type": "code",
      "source": [
        "# TENSOR\n",
        "# تنژور \n",
        "TENSOR  = torch.tensor([\n",
        "    [\n",
        "        [1,2,3], [4,5,6], [7, 8, 9]\n",
        "                         ]\n",
        "                        ])\n",
        "TENSOR"
      ],
      "metadata": {
        "colab": {
          "base_uri": "https://localhost:8080/"
        },
        "id": "UE8PHsYh01_b",
        "outputId": "da713418-f661-4720-fb2d-763cb4be9f03"
      },
      "execution_count": 43,
      "outputs": [
        {
          "output_type": "execute_result",
          "data": {
            "text/plain": [
              "tensor([[[1, 2, 3],\n",
              "         [4, 5, 6],\n",
              "         [7, 8, 9]]])"
            ]
          },
          "metadata": {},
          "execution_count": 43
        }
      ]
    },
    {
      "cell_type": "code",
      "source": [
        "# ndim \n",
        "TENSOR.ndim"
      ],
      "metadata": {
        "colab": {
          "base_uri": "https://localhost:8080/"
        },
        "id": "Msb3e0Yp2rCM",
        "outputId": "9d2a3013-1672-4d70-a28d-7ceb09e47619"
      },
      "execution_count": 30,
      "outputs": [
        {
          "output_type": "execute_result",
          "data": {
            "text/plain": [
              "3"
            ]
          },
          "metadata": {},
          "execution_count": 30
        }
      ]
    },
    {
      "cell_type": "code",
      "source": [
        "TENSOR.shape"
      ],
      "metadata": {
        "colab": {
          "base_uri": "https://localhost:8080/"
        },
        "id": "eRRDK4_H2wL2",
        "outputId": "7be7b79c-7e48-48c4-bc5e-365b64d03153"
      },
      "execution_count": 31,
      "outputs": [
        {
          "output_type": "execute_result",
          "data": {
            "text/plain": [
              "torch.Size([1, 3, 3])"
            ]
          },
          "metadata": {},
          "execution_count": 31
        }
      ]
    },
    {
      "cell_type": "markdown",
      "source": [
        "تو بالا اولین عدد که میشه یک نشون میده ما یه فضا داریم (نشون دهنده ی اولین براکت ماست ) \n",
        "دومی ، عدد سه نشون میده 3 تا بعد داریم .\n",
        "و سومی نشون بده هر کدوم از اون بعدا 3 تا المان دارن "
      ],
      "metadata": {
        "id": "PYY-IhNr4KQd"
      }
    },
    {
      "cell_type": "code",
      "source": [
        "# تو نشون دادن براکت اولی از یک شروع میشه\n",
        "# ولی موقع فراخوانی باید از صفر شروع کنیم :)\n",
        "# میفهمم یکم عجیبه اما ترس نداره که یه گوگل کردن\n",
        "# جیرینگی کارمونو راه میندازه:)\n",
        "TENSOR[0]"
      ],
      "metadata": {
        "colab": {
          "base_uri": "https://localhost:8080/"
        },
        "id": "7g14ySnO2zxz",
        "outputId": "6071c939-02b9-4507-ac6e-9e70c7aacf3e"
      },
      "execution_count": 42,
      "outputs": [
        {
          "output_type": "execute_result",
          "data": {
            "text/plain": [
              "tensor([[1, 2, 3],\n",
              "        [4, 5, 6],\n",
              "        [7, 8, 9]])"
            ]
          },
          "metadata": {},
          "execution_count": 42
        }
      ]
    },
    {
      "cell_type": "code",
      "source": [
        "TENSOR[0][2]"
      ],
      "metadata": {
        "colab": {
          "base_uri": "https://localhost:8080/"
        },
        "id": "a-izA9UH3l2b",
        "outputId": "0341ce01-a348-4ad0-b474-ea9a16f6156e"
      },
      "execution_count": 36,
      "outputs": [
        {
          "output_type": "execute_result",
          "data": {
            "text/plain": [
              "tensor([7, 8, 9])"
            ]
          },
          "metadata": {},
          "execution_count": 36
        }
      ]
    },
    {
      "cell_type": "code",
      "source": [
        "TENSOR[0][0:2]"
      ],
      "metadata": {
        "colab": {
          "base_uri": "https://localhost:8080/"
        },
        "id": "i7_R1SH83tWV",
        "outputId": "774ac7b1-5fe6-4063-e38d-21d349fcc9f6"
      },
      "execution_count": 40,
      "outputs": [
        {
          "output_type": "execute_result",
          "data": {
            "text/plain": [
              "tensor([[1, 2, 3],\n",
              "        [4, 5, 6]])"
            ]
          },
          "metadata": {},
          "execution_count": 40
        }
      ]
    },
    {
      "cell_type": "code",
      "source": [],
      "metadata": {
        "id": "jTft83ih32DX"
      },
      "execution_count": null,
      "outputs": []
    }
  ]
}